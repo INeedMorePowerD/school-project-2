{
  "nbformat": 4,
  "nbformat_minor": 0,
  "metadata": {
    "colab": {
      "provenance": []
    },
    "kernelspec": {
      "name": "python3",
      "display_name": "Python 3"
    },
    "language_info": {
      "name": "python"
    }
  },
  "cells": [
    {
      "cell_type": "code",
      "execution_count": 23,
      "metadata": {
        "colab": {
          "base_uri": "https://localhost:8080/"
        },
        "id": "-RX4BcMTQ33x",
        "outputId": "a0602e17-87f0-4ad3-cc9b-327da2a628d4"
      },
      "outputs": [
        {
          "output_type": "stream",
          "name": "stdout",
          "text": [
            "insira um número: 13.5\n",
            "o número digitado esta entre 10 e 20\n"
          ]
        }
      ],
      "source": [
        "n = float(input(\"insira um número: \"))\n",
        "\n",
        "if 10 <= n <= 20:\n",
        "  print(\"o número digitado esta entre 10 e 20\")\n",
        "else:\n",
        "  print(\"o número digitado não esta entre 10 e 20\")\n"
      ]
    },
    {
      "cell_type": "code",
      "source": [
        "age = int(input(\"digite sua idade: \"))\n",
        "perm = str(input(\"você tem permissão dos responsáveis? \"))\n",
        "\n",
        "if age <=18 and perm == (\"não\"):\n",
        "  print(\"você não pode entrar\")\n",
        "\n",
        "elif age >=18 and perm == (\"não\"):\n",
        "  print(\"você pode entrar\")\n",
        "\n",
        "elif age >=18 and perm == (\"sim\"):\n",
        "  print(\"você pode entrar\")\n",
        "\n",
        "elif age <=18 and perm == (\"sim\"):\n",
        "  print(\"você pode entrar\")\n",
        "\n",
        "else:\n",
        "    print(\"digite novamente\")"
      ],
      "metadata": {
        "colab": {
          "base_uri": "https://localhost:8080/"
        },
        "id": "PbDEmGahi4m3",
        "outputId": "6bde37e7-0a38-4ae1-8ef0-baf91de869a3"
      },
      "execution_count": 24,
      "outputs": [
        {
          "output_type": "stream",
          "name": "stdout",
          "text": [
            "digite sua idade: 14\n",
            "você tem permissão dos responsáveis? não\n",
            "você não pode entrar\n"
          ]
        }
      ]
    },
    {
      "cell_type": "code",
      "source": [
        "n = float(input(\"digite um número: \"))\n",
        "\n",
        "if n > 0 and n % 2 != 0:\n",
        "  print(\"você digitou um número positivo e ímpar\")\n",
        "else:\n",
        "  print(\"você digitou um número que não é positivo nem ímpar\")\n",
        ""
      ],
      "metadata": {
        "colab": {
          "base_uri": "https://localhost:8080/"
        },
        "id": "5EX3_97Yk2rc",
        "outputId": "113272cb-1671-4c63-abc7-8b62c5d2e3b2"
      },
      "execution_count": 28,
      "outputs": [
        {
          "output_type": "stream",
          "name": "stdout",
          "text": [
            "digite um número: 1\n",
            "você digitou um número positivo e ímpar\n"
          ]
        }
      ]
    },
    {
      "cell_type": "code",
      "source": [
        "placa = int(input(\"digite os ultimos digitos da placa do seu carro: \"))\n",
        "\n",
        "if placa % 10 == 1 or placa % 10 == 2:\n",
        "    print(\"Seu carro pode sair às segundas-feiras.\")\n",
        "\n",
        "elif placa % 10 == 3 or placa % 10 == 4:\n",
        "    print(\"Seu carro pode sair às terças-feiras.\")\n",
        "\n",
        "elif placa % 10 == 5 or placa % 10 == 6:\n",
        "    print(\"Seu carro pode sair às quartas-feiras.\")\n",
        "\n",
        "elif placa % 10 == 7 or placa % 10 == 8:\n",
        "    print(\"Seu carro pode sair às quintas-feiras.\")\n",
        "\n",
        "elif placa % 10 == 9 or placa % 10 == 0:\n",
        "    print(\"Seu carro pode sair às sextas-feiras.\")\n",
        "else:\n",
        "  print(\"seu carro não pode sair\")\n",
        "\n"
      ],
      "metadata": {
        "colab": {
          "base_uri": "https://localhost:8080/"
        },
        "id": "E7E5UwXhnxEl",
        "outputId": "290bfa79-d16c-4bde-aa92-50cbc99312dc"
      },
      "execution_count": 67,
      "outputs": [
        {
          "output_type": "stream",
          "name": "stdout",
          "text": [
            "digite os ultimos digitos da placa do seu carro: 1999\n",
            "Seu carro pode sair às sextas-feiras.\n"
          ]
        }
      ]
    }
  ]
}